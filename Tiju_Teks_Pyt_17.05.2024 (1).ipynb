{
 "cells": [
  {
   "cell_type": "code",
   "execution_count": 2,
   "id": "fdb863f0-0cde-45d4-b8ca-707e1af5d3f9",
   "metadata": {},
   "outputs": [
    {
     "name": "stdout",
     "output_type": "stream",
     "text": [
      "Hello\n"
     ]
    }
   ],
   "source": [
    "print (\"Hello\")"
   ]
  },
  {
   "cell_type": "code",
   "execution_count": 11,
   "id": "3c2f46a6-d5ff-44b2-8209-2e60986b7532",
   "metadata": {},
   "outputs": [
    {
     "name": "stdout",
     "output_type": "stream",
     "text": [
      "['False', 'None', 'True', 'and', 'as', 'assert', 'async', 'await', 'break', 'class', 'continue', 'def', 'del', 'elif', 'else', 'except', 'finally', 'for', 'from', 'global', 'if', 'import', 'in', 'is', 'lambda', 'nonlocal', 'not', 'or', 'pass', 'raise', 'return', 'try', 'while', 'with', 'yield']\n"
     ]
    }
   ],
   "source": [
    "import keyword\n",
    "python_keywords = keyword.kwlist\n",
    "print (python_keywords)\n",
    "\n"
   ]
  },
  {
   "cell_type": "raw",
   "id": "249c68f0-621d-422a-ae45-41d6c954c407",
   "metadata": {},
   "source": [
    "Jubilee = 12\n",
    "B_anjara = 14\n",
    "_Hitech = 50\n",
    "Hyd56 = 25\n",
    "Hyd_35 = 1\n",
    "_Bglr = 35\n"
   ]
  },
  {
   "cell_type": "code",
   "execution_count": 14,
   "id": "6550fbc1-fdc9-4c37-a0dd-d9ead519496f",
   "metadata": {},
   "outputs": [
    {
     "name": "stdout",
     "output_type": "stream",
     "text": [
      "True\n",
      "False\n"
     ]
    }
   ],
   "source": [
    "x1 = \"Hello\"\n",
    "y1 = \"Hello world\" \n",
    "\n",
    "print (x1 is not y1)\n",
    "print (y1 is x1)"
   ]
  },
  {
   "cell_type": "code",
   "execution_count": 2,
   "id": "b86ca22d-121c-4aa6-a423-2daa8ded7406",
   "metadata": {
    "scrolled": true
   },
   "outputs": [
    {
     "name": "stdout",
     "output_type": "stream",
     "text": [
      "8\n",
      "12\n",
      "2\n",
      "0.3333333333333333\n"
     ]
    }
   ],
   "source": [
    "a = 2\n",
    "b = 6\n",
    "\n",
    "#apply all arithmatic operators\n",
    "\n",
    "c = a + b\n",
    "d = a * b\n",
    "e = a % b\n",
    "f = a / b\n",
    "\n",
    "print (c)\n",
    "print (d)\n",
    "print (e)\n",
    "print (f)\n",
    "\n"
   ]
  },
  {
   "cell_type": "code",
   "execution_count": 18,
   "id": "a4dc3240-3267-4b3d-895c-89ea2f3c3cc8",
   "metadata": {},
   "outputs": [
    {
     "name": "stdout",
     "output_type": "stream",
     "text": [
      "False\n"
     ]
    }
   ],
   "source": [
    "a = 15\n",
    "b = 99\n",
    "\n",
    "print (a is b)"
   ]
  },
  {
   "cell_type": "code",
   "execution_count": 20,
   "id": "3f301798-bc9e-4b51-9428-771e5aa9a68e",
   "metadata": {},
   "outputs": [
    {
     "ename": "SyntaxError",
     "evalue": "invalid syntax (1316253748.py, line 10)",
     "output_type": "error",
     "traceback": [
      "\u001b[1;36m  Cell \u001b[1;32mIn[20], line 10\u001b[1;36m\u001b[0m\n\u001b[1;33m    print (x2 is in y2)\u001b[0m\n\u001b[1;37m                 ^\u001b[0m\n\u001b[1;31mSyntaxError\u001b[0m\u001b[1;31m:\u001b[0m invalid syntax\n"
     ]
    }
   ],
   "source": [
    "x1 = 5\n",
    "y1 = 5\n",
    "\n",
    "x2 = \"Hello\" \n",
    "y2 = \"Hello World\"\n",
    "\n",
    "print (x1 is y1)\n",
    "print (x1 is x2)\n",
    "\n",
    "print (x2 is in y2)"
   ]
  },
  {
   "cell_type": "code",
   "execution_count": 1,
   "id": "369c38f1-b416-46e9-9a8c-bf92ae35219d",
   "metadata": {},
   "outputs": [
    {
     "ename": "SyntaxError",
     "evalue": "unmatched ')' (2982678855.py, line 11)",
     "output_type": "error",
     "traceback": [
      "\u001b[1;36m  Cell \u001b[1;32mIn[1], line 11\u001b[1;36m\u001b[0m\n\u001b[1;33m    print (x) is not y2)\u001b[0m\n\u001b[1;37m                       ^\u001b[0m\n\u001b[1;31mSyntaxError\u001b[0m\u001b[1;31m:\u001b[0m unmatched ')'\n"
     ]
    }
   ],
   "source": [
    "x1 = 5\n",
    "y1 = 5\n",
    "\n",
    "x2 = \"Hello\" \n",
    "y2 = \"Hello World\"\n",
    "\n",
    "print (x1 is y1)\n",
    "print (x1 is x2)\n",
    "\n",
    "print (x2 is y2)\n",
    "print (x) is not y2)"
   ]
  },
  {
   "cell_type": "code",
   "execution_count": null,
   "id": "dbf006cf-de5c-4393-94df-9060c39fb0f1",
   "metadata": {},
   "outputs": [],
   "source": [
    ")"
   ]
  }
 ],
 "metadata": {
  "kernelspec": {
   "display_name": "Python 3 (ipykernel)",
   "language": "python",
   "name": "python3"
  },
  "language_info": {
   "codemirror_mode": {
    "name": "ipython",
    "version": 3
   },
   "file_extension": ".py",
   "mimetype": "text/x-python",
   "name": "python",
   "nbconvert_exporter": "python",
   "pygments_lexer": "ipython3",
   "version": "3.11.7"
  }
 },
 "nbformat": 4,
 "nbformat_minor": 5
}
